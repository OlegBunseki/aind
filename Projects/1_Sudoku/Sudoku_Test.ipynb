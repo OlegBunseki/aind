{
 "cells": [
  {
   "cell_type": "code",
   "execution_count": 1,
   "metadata": {},
   "outputs": [],
   "source": [
    "grid = '..3.2.6..9..3.5..1..18.64....81.29..7.......8..67.82....26.95..8..2.3..9..5.1.3..'\n",
    "grid2 = '4.....8.5.3..........7......2.....6.....8.4......1.......6.3.7.5..2.....1.4......'"
   ]
  },
  {
   "cell_type": "code",
   "execution_count": 56,
   "metadata": {},
   "outputs": [],
   "source": [
    "rows = 'ABCDEFGHI'\n",
    "cols = '123456789'\n",
    "\n",
    "def cross(a, b):\n",
    "    return [s+t for s in a for t in b]\n",
    "\n",
    "\n",
    "boxes = cross(rows, cols)\n",
    "\n",
    "row_units = [cross(r, cols) for r in rows]\n",
    "column_units = [cross(rows, c) for c in cols]\n",
    "square_units = [cross(rs, cs) for rs in ('ABC','DEF','GHI') for cs in ('123','456','789')]\n",
    "diag_1 = [[rows[i] + cols[i]  for i in range(9)]]\n",
    "diag_2 = [[rows[i] + cols[8-i]  for i in range(9)]]\n",
    "unitlist = row_units + column_units + square_units + diag_1 + diag_2\n",
    "units = dict((s, [u for u in unitlist if s in u]) for s in boxes)\n",
    "peers = dict((s, set(sum(units[s],[]))-set([s])) for s in boxes)"
   ]
  },
  {
   "cell_type": "code",
   "execution_count": 60,
   "metadata": {},
   "outputs": [
    {
     "data": {
      "text/plain": [
       "[['A1', 'A2', 'A3', 'A4', 'A5', 'A6', 'A7', 'A8', 'A9'],\n",
       " ['B1', 'B2', 'B3', 'B4', 'B5', 'B6', 'B7', 'B8', 'B9'],\n",
       " ['C1', 'C2', 'C3', 'C4', 'C5', 'C6', 'C7', 'C8', 'C9'],\n",
       " ['D1', 'D2', 'D3', 'D4', 'D5', 'D6', 'D7', 'D8', 'D9'],\n",
       " ['E1', 'E2', 'E3', 'E4', 'E5', 'E6', 'E7', 'E8', 'E9'],\n",
       " ['F1', 'F2', 'F3', 'F4', 'F5', 'F6', 'F7', 'F8', 'F9'],\n",
       " ['G1', 'G2', 'G3', 'G4', 'G5', 'G6', 'G7', 'G8', 'G9'],\n",
       " ['H1', 'H2', 'H3', 'H4', 'H5', 'H6', 'H7', 'H8', 'H9'],\n",
       " ['I1', 'I2', 'I3', 'I4', 'I5', 'I6', 'I7', 'I8', 'I9'],\n",
       " ['A1', 'B1', 'C1', 'D1', 'E1', 'F1', 'G1', 'H1', 'I1'],\n",
       " ['A2', 'B2', 'C2', 'D2', 'E2', 'F2', 'G2', 'H2', 'I2'],\n",
       " ['A3', 'B3', 'C3', 'D3', 'E3', 'F3', 'G3', 'H3', 'I3'],\n",
       " ['A4', 'B4', 'C4', 'D4', 'E4', 'F4', 'G4', 'H4', 'I4'],\n",
       " ['A5', 'B5', 'C5', 'D5', 'E5', 'F5', 'G5', 'H5', 'I5'],\n",
       " ['A6', 'B6', 'C6', 'D6', 'E6', 'F6', 'G6', 'H6', 'I6'],\n",
       " ['A7', 'B7', 'C7', 'D7', 'E7', 'F7', 'G7', 'H7', 'I7'],\n",
       " ['A8', 'B8', 'C8', 'D8', 'E8', 'F8', 'G8', 'H8', 'I8'],\n",
       " ['A9', 'B9', 'C9', 'D9', 'E9', 'F9', 'G9', 'H9', 'I9'],\n",
       " ['A1', 'A2', 'A3', 'B1', 'B2', 'B3', 'C1', 'C2', 'C3'],\n",
       " ['A4', 'A5', 'A6', 'B4', 'B5', 'B6', 'C4', 'C5', 'C6'],\n",
       " ['A7', 'A8', 'A9', 'B7', 'B8', 'B9', 'C7', 'C8', 'C9'],\n",
       " ['D1', 'D2', 'D3', 'E1', 'E2', 'E3', 'F1', 'F2', 'F3'],\n",
       " ['D4', 'D5', 'D6', 'E4', 'E5', 'E6', 'F4', 'F5', 'F6'],\n",
       " ['D7', 'D8', 'D9', 'E7', 'E8', 'E9', 'F7', 'F8', 'F9'],\n",
       " ['G1', 'G2', 'G3', 'H1', 'H2', 'H3', 'I1', 'I2', 'I3'],\n",
       " ['G4', 'G5', 'G6', 'H4', 'H5', 'H6', 'I4', 'I5', 'I6'],\n",
       " ['G7', 'G8', 'G9', 'H7', 'H8', 'H9', 'I7', 'I8', 'I9'],\n",
       " ['A1', 'B2', 'C3', 'D4', 'E5', 'F6', 'G7', 'H8', 'I9'],\n",
       " ['A9', 'B8', 'C7', 'D6', 'E5', 'F4', 'G3', 'H2', 'I1']]"
      ]
     },
     "execution_count": 60,
     "metadata": {},
     "output_type": "execute_result"
    }
   ],
   "source": [
    "unitlist"
   ]
  },
  {
   "cell_type": "code",
   "execution_count": 59,
   "metadata": {},
   "outputs": [
    {
     "data": {
      "text/plain": [
       "[['A1', 'A2', 'A3', 'A4', 'A5', 'A6', 'A7', 'A8', 'A9'],\n",
       " ['A1', 'B1', 'C1', 'D1', 'E1', 'F1', 'G1', 'H1', 'I1'],\n",
       " ['A1', 'A2', 'A3', 'B1', 'B2', 'B3', 'C1', 'C2', 'C3'],\n",
       " ['A1', 'B2', 'C3', 'D4', 'E5', 'F6', 'G7', 'H8', 'I9']]"
      ]
     },
     "execution_count": 59,
     "metadata": {},
     "output_type": "execute_result"
    }
   ],
   "source": [
    "units['A1']"
   ]
  },
  {
   "cell_type": "code",
   "execution_count": 57,
   "metadata": {},
   "outputs": [
    {
     "data": {
      "text/plain": [
       "{'A2',\n",
       " 'A3',\n",
       " 'A4',\n",
       " 'A5',\n",
       " 'A6',\n",
       " 'A7',\n",
       " 'A8',\n",
       " 'A9',\n",
       " 'B1',\n",
       " 'B2',\n",
       " 'B3',\n",
       " 'C1',\n",
       " 'C2',\n",
       " 'C3',\n",
       " 'D1',\n",
       " 'D4',\n",
       " 'E1',\n",
       " 'E5',\n",
       " 'F1',\n",
       " 'F6',\n",
       " 'G1',\n",
       " 'G7',\n",
       " 'H1',\n",
       " 'H8',\n",
       " 'I1',\n",
       " 'I9'}"
      ]
     },
     "execution_count": 57,
     "metadata": {},
     "output_type": "execute_result"
    }
   ],
   "source": [
    "peers['A1']"
   ]
  },
  {
   "cell_type": "code",
   "execution_count": 4,
   "metadata": {},
   "outputs": [],
   "source": [
    "def display(values):\n",
    "    \"\"\"\n",
    "    Display the values as a 2-D grid.\n",
    "    Input: The sudoku in dictionary form\n",
    "    Output: None\n",
    "    \"\"\"\n",
    "    width = 1+max(len(values[s]) for s in boxes)\n",
    "    line = '+'.join(['-'*(width*3)]*3)\n",
    "    for r in rows:\n",
    "        print(''.join(values[r+c].center(width)+('|' if c in '36' else '')\n",
    "                      for c in cols))\n",
    "        if r in 'CF': print(line)\n",
    "    return"
   ]
  },
  {
   "cell_type": "code",
   "execution_count": 5,
   "metadata": {},
   "outputs": [],
   "source": [
    "def grid_values(grid, miss_v):\n",
    "    \"\"\"Convert grid string into {<box>: <value>} dict with '123456789' value for empties.\n",
    "\n",
    "    Args:\n",
    "        grid: Sudoku grid in string form, 81 characters long\n",
    "    Returns:\n",
    "        Sudoku grid in dictionary form:\n",
    "        - keys: Box labels, e.g. 'A1'\n",
    "        - values: Value in corresponding box, e.g. '8', or '123456789' if it is empty.\n",
    "    \"\"\"\n",
    "    values = [miss_v if s == '.' else s for s in grid ]\n",
    "    return dict(zip(boxes, values))"
   ]
  },
  {
   "cell_type": "code",
   "execution_count": 6,
   "metadata": {},
   "outputs": [],
   "source": [
    "def eliminate(values):\n",
    "    \"\"\"Eliminate values from peers of each box with a single value.\n",
    "\n",
    "    Go through all the boxes, and whenever there is a box with a single value,\n",
    "    eliminate this value from the set of values of all its peers.\n",
    "\n",
    "    Args:\n",
    "        values: Sudoku in dictionary form.\n",
    "    Returns:\n",
    "        Resulting Sudoku in dictionary form after eliminating values.\n",
    "    \"\"\"\n",
    "    for box in values.keys():\n",
    "        if len(values[box]) == 1:\n",
    "            delete_v = values[box]\n",
    "            for peer in peers[box]:\n",
    "                values[peer] = values[peer].replace(delete_v, '')\n",
    "    return values"
   ]
  },
  {
   "cell_type": "code",
   "execution_count": 13,
   "metadata": {},
   "outputs": [],
   "source": [
    "def only_choice(values):\n",
    "    \"\"\"Finalize all values that are the only choice for a unit.\n",
    "\n",
    "    Go through all the units, and whenever there is a unit with a value\n",
    "    that only fits in one box, assign the value to this box.\n",
    "\n",
    "    Input: Sudoku in dictionary form.\n",
    "    Output: Resulting Sudoku in dictionary form after filling in only choices.\n",
    "    \"\"\"\n",
    "    for unit in unitlist:\n",
    "        for digit in '123456789':\n",
    "            dplaces = [box for box in unit if digit in values[box]]\n",
    "            if len(dplaces) == 1:\n",
    "                values[dplaces[0]] = digit\n",
    "    return values"
   ]
  },
  {
   "cell_type": "code",
   "execution_count": 7,
   "metadata": {},
   "outputs": [],
   "source": [
    "def reduce_puzzle(values):\n",
    "    stalled = False\n",
    "    while not stalled:\n",
    "        # Check how many boxes have a determined value\n",
    "        solved_values_before = len([box for box in values.keys() if len(values[box]) == 1])\n",
    "\n",
    "        # Your code here: Use the Eliminate Strategy\n",
    "        values = eliminate(values)\n",
    "        # Your code here: Use the Only Choice Strategy\n",
    "        values = only_choice(values)\n",
    "        # Check how many boxes have a determined value, to compare\n",
    "        solved_values_after = len([box for box in values.keys() if len(values[box]) == 1])\n",
    "        # If no new values were added, stop the loop.\n",
    "        stalled = solved_values_before == solved_values_after\n",
    "        # Sanity check, return False if there is a box with zero available values:\n",
    "        if len([box for box in values.keys() if len(values[box]) == 0]):\n",
    "            return False\n",
    "    return values"
   ]
  },
  {
   "cell_type": "code",
   "execution_count": 8,
   "metadata": {},
   "outputs": [],
   "source": [
    "def search(values):\n",
    "    \"Using depth-first search and propagation, try all possible values.\"\n",
    "    # First, reduce the puzzle using the previous function\n",
    "    values = reduce_puzzle(values)\n",
    "    if values is False:\n",
    "        return False ## Failed earlier\n",
    "    if all(len(values[s]) == 1 for s in boxes): \n",
    "        return values ## Solved!\n",
    "    # Choose one of the unfilled squares with the fewest possibilities\n",
    "    n,s = min((len(values[s]), s) for s in boxes if len(values[s]) > 1)\n",
    "    \n",
    "    # min([(len(sudoku[i]), i) for i in boxes if len(sudoku[i]) > 1])\n",
    "    \n",
    "    # Now use recurrence to solve each one of the resulting sudokus, and \n",
    "    for value in values[s]:\n",
    "        new_sudoku = values.copy()\n",
    "        new_sudoku[s] = value\n",
    "        attempt = search(new_sudoku)\n",
    "        if attempt:\n",
    "            return attempt"
   ]
  },
  {
   "cell_type": "code",
   "execution_count": 9,
   "metadata": {},
   "outputs": [
    {
     "name": "stdout",
     "output_type": "stream",
     "text": [
      ". . 3 |. 2 . |6 . . \n",
      "9 . . |3 . 5 |. . 1 \n",
      ". . 1 |8 . 6 |4 . . \n",
      "------+------+------\n",
      ". . 8 |1 . 2 |9 . . \n",
      "7 . . |. . . |. . 8 \n",
      ". . 6 |7 . 8 |2 . . \n",
      "------+------+------\n",
      ". . 2 |6 . 9 |5 . . \n",
      "8 . . |2 . 3 |. . 9 \n",
      ". . 5 |. 1 . |3 . . \n"
     ]
    }
   ],
   "source": [
    "v_for_miss = '.'\n",
    "\n",
    "display(grid_values(grid, v_for_miss))"
   ]
  },
  {
   "cell_type": "code",
   "execution_count": 10,
   "metadata": {},
   "outputs": [
    {
     "name": "stdout",
     "output_type": "stream",
     "text": [
      "123456789 123456789     3     |123456789     2     123456789 |    6     123456789 123456789 \n",
      "    9     123456789 123456789 |    3     123456789     5     |123456789 123456789     1     \n",
      "123456789 123456789     1     |    8     123456789     6     |    4     123456789 123456789 \n",
      "------------------------------+------------------------------+------------------------------\n",
      "123456789 123456789     8     |    1     123456789     2     |    9     123456789 123456789 \n",
      "    7     123456789 123456789 |123456789 123456789 123456789 |123456789 123456789     8     \n",
      "123456789 123456789     6     |    7     123456789     8     |    2     123456789 123456789 \n",
      "------------------------------+------------------------------+------------------------------\n",
      "123456789 123456789     2     |    6     123456789     9     |    5     123456789 123456789 \n",
      "    8     123456789 123456789 |    2     123456789     3     |123456789 123456789     9     \n",
      "123456789 123456789     5     |123456789     1     123456789 |    3     123456789 123456789 \n"
     ]
    }
   ],
   "source": [
    "v_for_miss = '123456789'\n",
    "\n",
    "display(grid_values(grid, v_for_miss))"
   ]
  },
  {
   "cell_type": "code",
   "execution_count": 11,
   "metadata": {},
   "outputs": [
    {
     "data": {
      "text/plain": [
       "{'A1': '4',\n",
       " 'A2': '123456789',\n",
       " 'A3': '123456789',\n",
       " 'A4': '123456789',\n",
       " 'A5': '123456789',\n",
       " 'A6': '123456789',\n",
       " 'A7': '8',\n",
       " 'A8': '123456789',\n",
       " 'A9': '5',\n",
       " 'B1': '123456789',\n",
       " 'B2': '3',\n",
       " 'B3': '123456789',\n",
       " 'B4': '123456789',\n",
       " 'B5': '123456789',\n",
       " 'B6': '123456789',\n",
       " 'B7': '123456789',\n",
       " 'B8': '123456789',\n",
       " 'B9': '123456789',\n",
       " 'C1': '123456789',\n",
       " 'C2': '123456789',\n",
       " 'C3': '123456789',\n",
       " 'C4': '7',\n",
       " 'C5': '123456789',\n",
       " 'C6': '123456789',\n",
       " 'C7': '123456789',\n",
       " 'C8': '123456789',\n",
       " 'C9': '123456789',\n",
       " 'D1': '123456789',\n",
       " 'D2': '2',\n",
       " 'D3': '123456789',\n",
       " 'D4': '123456789',\n",
       " 'D5': '123456789',\n",
       " 'D6': '123456789',\n",
       " 'D7': '123456789',\n",
       " 'D8': '6',\n",
       " 'D9': '123456789',\n",
       " 'E1': '123456789',\n",
       " 'E2': '123456789',\n",
       " 'E3': '123456789',\n",
       " 'E4': '123456789',\n",
       " 'E5': '8',\n",
       " 'E6': '123456789',\n",
       " 'E7': '4',\n",
       " 'E8': '123456789',\n",
       " 'E9': '123456789',\n",
       " 'F1': '123456789',\n",
       " 'F2': '123456789',\n",
       " 'F3': '123456789',\n",
       " 'F4': '123456789',\n",
       " 'F5': '1',\n",
       " 'F6': '123456789',\n",
       " 'F7': '123456789',\n",
       " 'F8': '123456789',\n",
       " 'F9': '123456789',\n",
       " 'G1': '123456789',\n",
       " 'G2': '123456789',\n",
       " 'G3': '123456789',\n",
       " 'G4': '6',\n",
       " 'G5': '123456789',\n",
       " 'G6': '3',\n",
       " 'G7': '123456789',\n",
       " 'G8': '7',\n",
       " 'G9': '123456789',\n",
       " 'H1': '5',\n",
       " 'H2': '123456789',\n",
       " 'H3': '123456789',\n",
       " 'H4': '2',\n",
       " 'H5': '123456789',\n",
       " 'H6': '123456789',\n",
       " 'H7': '123456789',\n",
       " 'H8': '123456789',\n",
       " 'H9': '123456789',\n",
       " 'I1': '1',\n",
       " 'I2': '123456789',\n",
       " 'I3': '4',\n",
       " 'I4': '123456789',\n",
       " 'I5': '123456789',\n",
       " 'I6': '123456789',\n",
       " 'I7': '123456789',\n",
       " 'I8': '123456789',\n",
       " 'I9': '123456789'}"
      ]
     },
     "execution_count": 11,
     "metadata": {},
     "output_type": "execute_result"
    }
   ],
   "source": [
    "sudoku = grid_values(grid2, v_for_miss)\n",
    "sudoku"
   ]
  },
  {
   "cell_type": "code",
   "execution_count": 14,
   "metadata": {},
   "outputs": [
    {
     "name": "stdout",
     "output_type": "stream",
     "text": [
      "   4      1679   12679  |  139     2369    269   |   8      1239     5    \n",
      " 26789     3    1256789 | 14589   24569   245689 | 12679    1249   124679 \n",
      "  2689   15689   125689 |   7     234569  245689 | 12369   12349   123469 \n",
      "------------------------+------------------------+------------------------\n",
      "  3789     2     15789  |  3459   34579    4579  | 13579     6     13789  \n",
      "  3679   15679   15679  |  359      8     25679  |   4     12359   12379  \n",
      " 36789     4     56789  |  359      1     25679  | 23579   23589   23789  \n",
      "------------------------+------------------------+------------------------\n",
      "  289      89     289   |   6      459      3    |  1259     7     12489  \n",
      "   5      6789     3    |   2      479      1    |   69     489     4689  \n",
      "   1      6789     4    |  589     579     5789  | 23569   23589   23689  \n"
     ]
    }
   ],
   "source": [
    "display(reduce_puzzle(sudoku))"
   ]
  },
  {
   "cell_type": "code",
   "execution_count": 17,
   "metadata": {},
   "outputs": [
    {
     "ename": "IndentationError",
     "evalue": "unindent does not match any outer indentation level (<ipython-input-17-9c75ba8c1e78>, line 6)",
     "output_type": "error",
     "traceback": [
      "\u001b[1;36m  File \u001b[1;32m\"<ipython-input-17-9c75ba8c1e78>\"\u001b[1;36m, line \u001b[1;32m6\u001b[0m\n\u001b[1;33m    return values\u001b[0m\n\u001b[1;37m                 ^\u001b[0m\n\u001b[1;31mIndentationError\u001b[0m\u001b[1;31m:\u001b[0m unindent does not match any outer indentation level\n"
     ]
    }
   ],
   "source": [
    "for unit in unitlist:\n",
    "        for digit in '123456789':\n",
    "            dplaces = [box for box in unit if digit in values[box]]\n",
    "            if len(dplaces) == 1:\n",
    "                values[dplaces[0]] = digit\n",
    "    return values"
   ]
  },
  {
   "cell_type": "code",
   "execution_count": 30,
   "metadata": {},
   "outputs": [
    {
     "data": {
      "text/plain": [
       "['1679', '12679', '139', '2369', '269', '1239']"
      ]
     },
     "execution_count": 30,
     "metadata": {},
     "output_type": "execute_result"
    }
   ],
   "source": [
    "[sudoku[box] for box in unitlist[0] if len(sudoku[box]) >= 2] "
   ]
  },
  {
   "cell_type": "code",
   "execution_count": 40,
   "metadata": {},
   "outputs": [],
   "source": [
    "test = ['25', '5', '34', '567', '763', '4', '6', '34', '4562']"
   ]
  },
  {
   "cell_type": "code",
   "execution_count": 41,
   "metadata": {},
   "outputs": [],
   "source": [
    "subset = [test[v] for v in range(len(test)) if len(test[v])>=2]\n",
    "if len(subset)>=2:\n",
    "    subset = [test[v] for v in range(len(test)) if len(test[v])==2]\n",
    "    \n"
   ]
  },
  {
   "cell_type": "code",
   "execution_count": 62,
   "metadata": {},
   "outputs": [
    {
     "data": {
      "text/plain": [
       "'4'"
      ]
     },
     "execution_count": 62,
     "metadata": {},
     "output_type": "execute_result"
    }
   ],
   "source": [
    "sudoku['A1']"
   ]
  },
  {
   "cell_type": "code",
   "execution_count": 74,
   "metadata": {},
   "outputs": [
    {
     "name": "stdout",
     "output_type": "stream",
     "text": [
      "dd = ['34', '34']\n"
     ]
    }
   ],
   "source": [
    "print('dd = ' + str([twin for twin in test if sum([twin==v for v in test]) == 2]))"
   ]
  },
  {
   "cell_type": "code",
   "execution_count": 79,
   "metadata": {},
   "outputs": [
    {
     "data": {
      "text/plain": [
       "['34', '34']"
      ]
     },
     "execution_count": 79,
     "metadata": {},
     "output_type": "execute_result"
    }
   ],
   "source": [
    "s = [twin for twin in test if sum([twin==v for v in test]) == 2]\n",
    "s"
   ]
  },
  {
   "cell_type": "code",
   "execution_count": 83,
   "metadata": {},
   "outputs": [
    {
     "data": {
      "text/plain": [
       "['A']"
      ]
     },
     "execution_count": 83,
     "metadata": {},
     "output_type": "execute_result"
    }
   ],
   "source": [
    "my.append('A')\n",
    "my"
   ]
  },
  {
   "cell_type": "code",
   "execution_count": 116,
   "metadata": {},
   "outputs": [
    {
     "data": {
      "text/plain": [
       "['34', '34']"
      ]
     },
     "execution_count": 116,
     "metadata": {},
     "output_type": "execute_result"
    }
   ],
   "source": [
    "s"
   ]
  },
  {
   "cell_type": "code",
   "execution_count": 101,
   "metadata": {},
   "outputs": [
    {
     "data": {
      "text/plain": [
       "True"
      ]
     },
     "execution_count": 101,
     "metadata": {},
     "output_type": "execute_result"
    }
   ],
   "source": [
    "'34' in my"
   ]
  },
  {
   "cell_type": "code",
   "execution_count": 119,
   "metadata": {},
   "outputs": [],
   "source": [
    "my = []"
   ]
  },
  {
   "cell_type": "code",
   "execution_count": 117,
   "metadata": {},
   "outputs": [
    {
     "data": {
      "text/plain": [
       "[['34']]"
      ]
     },
     "execution_count": 117,
     "metadata": {},
     "output_type": "execute_result"
    }
   ],
   "source": [
    "[my.append(v) or my for v in s if v not in my]"
   ]
  },
  {
   "cell_type": "code",
   "execution_count": 122,
   "metadata": {},
   "outputs": [
    {
     "data": {
      "text/plain": [
       "[['34'], ['34']]"
      ]
     },
     "execution_count": 122,
     "metadata": {},
     "output_type": "execute_result"
    }
   ],
   "source": [
    "[my + [v] for v in s if [v] not in my]"
   ]
  },
  {
   "cell_type": "code",
   "execution_count": null,
   "metadata": {},
   "outputs": [],
   "source": []
  },
  {
   "cell_type": "code",
   "execution_count": null,
   "metadata": {},
   "outputs": [],
   "source": []
  },
  {
   "cell_type": "code",
   "execution_count": 48,
   "metadata": {},
   "outputs": [
    {
     "name": "stdout",
     "output_type": "stream",
     "text": [
      "34\n"
     ]
    }
   ],
   "source": [
    "for v in range(len(subset)-1):\n",
    "    if sum([subset[i]==subset[v] for i in range(1, len(subset))]) == 2:\n",
    "        print(subset[v])"
   ]
  },
  {
   "cell_type": "code",
   "execution_count": null,
   "metadata": {},
   "outputs": [],
   "source": [
    "    for unit in unitlist:\n",
    "        my_subset = [values[box] for box in unit if len(values[box])>=2]\n",
    "        if len(my_subset)>=2:\n",
    "            double_digit = [my_subset[box] for box in unit if len(my_subset[box])==2]\n",
    "            print(double_digit)\n",
    "            \n",
    "    return values\n"
   ]
  },
  {
   "cell_type": "code",
   "execution_count": 64,
   "metadata": {},
   "outputs": [],
   "source": [
    "my_subset = [sudoku[box] for box in unitlist[0] if len(sudoku[box])>=2]"
   ]
  },
  {
   "cell_type": "code",
   "execution_count": 65,
   "metadata": {},
   "outputs": [
    {
     "data": {
      "text/plain": [
       "['1679', '12679', '139', '2369', '269', '1239']"
      ]
     },
     "execution_count": 65,
     "metadata": {},
     "output_type": "execute_result"
    }
   ],
   "source": [
    "my_subset"
   ]
  },
  {
   "cell_type": "code",
   "execution_count": 70,
   "metadata": {},
   "outputs": [
    {
     "data": {
      "text/plain": [
       "['139', '269']"
      ]
     },
     "execution_count": 70,
     "metadata": {},
     "output_type": "execute_result"
    }
   ],
   "source": [
    "[i for i in my_subset if len(i)==3]"
   ]
  },
  {
   "cell_type": "code",
   "execution_count": null,
   "metadata": {},
   "outputs": [],
   "source": []
  },
  {
   "cell_type": "code",
   "execution_count": null,
   "metadata": {},
   "outputs": [],
   "source": [
    "if digit in values[box]"
   ]
  },
  {
   "cell_type": "code",
   "execution_count": 15,
   "metadata": {},
   "outputs": [
    {
     "name": "stdout",
     "output_type": "stream",
     "text": [
      "4 1 7 |3 6 9 |8 2 5 \n",
      "6 3 2 |1 5 8 |9 4 7 \n",
      "9 5 8 |7 2 4 |3 1 6 \n",
      "------+------+------\n",
      "8 2 5 |4 3 7 |1 6 9 \n",
      "7 9 1 |5 8 6 |4 3 2 \n",
      "3 4 6 |9 1 2 |7 5 8 \n",
      "------+------+------\n",
      "2 8 9 |6 4 3 |5 7 1 \n",
      "5 7 3 |2 9 1 |6 8 4 \n",
      "1 6 4 |8 7 5 |2 9 3 \n"
     ]
    }
   ],
   "source": [
    "display(search(sudoku))"
   ]
  }
 ],
 "metadata": {
  "kernelspec": {
   "display_name": "Python [default]",
   "language": "python",
   "name": "python3"
  },
  "language_info": {
   "codemirror_mode": {
    "name": "ipython",
    "version": 3
   },
   "file_extension": ".py",
   "mimetype": "text/x-python",
   "name": "python",
   "nbconvert_exporter": "python",
   "pygments_lexer": "ipython3",
   "version": "3.5.4"
  }
 },
 "nbformat": 4,
 "nbformat_minor": 2
}
